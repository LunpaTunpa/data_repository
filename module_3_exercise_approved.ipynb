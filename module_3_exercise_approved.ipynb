{
  "cells": [
    {
      "cell_type": "markdown",
      "metadata": {
        "id": "KJqp9AANOCtf"
      },
      "source": [
        "<img src=\"https://raw.githubusercontent.com/andre-marcos-perez/ebac-course-utils/main/media/logo/newebac_logo_black_half.png\" alt=\"ebac-logo\">\n",
        "\n",
        "---\n",
        "\n",
        "# **Módulo** | Python: Fluxo Condicional & Repetição\n",
        "Caderno de **Exercícios**<br> \n",
        "Professor [André Perez](https://www.linkedin.com/in/andremarcosperez/)\n",
        "\n",
        "---"
      ]
    },
    {
      "cell_type": "markdown",
      "metadata": {
        "id": "d9jDtUbDOE1-"
      },
      "source": [
        "# **Tópicos**\n",
        "\n",
        "<ol type=\"1\">\n",
        "  <li>Estrutura condicional if / else / elif;</li>\n",
        "  <li>Estrutura condicional try / catch / finally;</li>\n",
        "  <li>Estrutura de repetição for / in.</li>\n",
        "</ol>"
      ]
    },
    {
      "cell_type": "markdown",
      "metadata": {
        "id": "SmoHgt-lwkpD"
      },
      "source": [
        "---"
      ]
    },
    {
      "cell_type": "markdown",
      "metadata": {
        "id": "GABI6OW8OfQ2"
      },
      "source": [
        "# **Exercícios**"
      ]
    },
    {
      "cell_type": "markdown",
      "metadata": {
        "id": "w1usGlRAyHEN"
      },
      "source": [
        "## 1\\. Estrutura condicional for / in"
      ]
    },
    {
      "cell_type": "markdown",
      "metadata": {
        "id": "DTdtCQLDyHEO"
      },
      "source": [
        "Na lista `propaganda_online` abaixo, estão presente os dados de usuários que acessaram um determinado site e se o mesmo clicou em uma propaganda."
      ]
    },
    {
      "cell_type": "code",
      "execution_count": 65,
      "metadata": {
        "id": "gkcRIf0iyHEO"
      },
      "outputs": [],
      "source": [
        "propaganda_online = [\n",
        "  {'tempo_gasto_site': '68.95', 'idade': 35, 'renda_area': 61833.90, 'tempo_gasto_internet': 256.09, 'cidade': 'Wrightburgh', 'pais': 'Tunisia', 'clicou_no_ad': 0},\n",
        "  {'tempo_gasto_site': 80.23, 'idade': 31, 'renda_area': 68441.85, 'tempo_gasto_internet': 349.77, 'cidade': 'West Jodi', 'pais': 'Nauru', 'clicou_no_ad': 0},\n",
        "  {'tempo_gasto_site': 69.47, 'idade': 26, 'renda_area': 59785.94, 'tempo_gasto_internet': 236.50, 'cidade': 'Davidton', 'pais': 'San Marino', 'clicou_no_ad': 1},\n",
        "  {'tempo_gasto_site': True, 'idade': 35, 'renda_area': 73889.99, 'tempo_gasto_internet': 55.58, 'cidade': 'South Manuel', 'pais': 'Iceland', 'clicou_no_ad': 0},\n",
        "  {'tempo_gasto_site': 88.91, 'idade': 33, 'renda_area': 53852.85, 'tempo_gasto_internet': 20.36, 'cidade': 'Brandonstad', 'pais': 'Myanmar', 'clicou_no_ad': 3},\n",
        "  {'tempo_gasto_site': None, 'idade': 48, 'renda_area': 24593.33, 'tempo_gasto_internet': 131.76, 'cidade': 'Port Jefferybury', 'pais': 'Australia', 'clicou_no_ad': 1},\n",
        "  {'tempo_gasto_site': 74.53, 'idade': 30, 'renda_area': 68862.00, 'tempo_gasto_internet': 81.51, 'cidade': 'West Colin', 'pais': 'Grenada'},\n",
        "  {'tempo_gasto_site': 69.88, 'idade': 20, 'renda_area': 55642.32, 'tempo_gasto_internet': 183.82, 'cidade': 'Ramirezton', 'pais': 'Ghana', 'clicou_no_ad': 0}\n",
        "]"
      ]
    },
    {
      "cell_type": "code",
      "execution_count": 66,
      "metadata": {
        "id": "cyMWqs_t8pWA",
        "colab": {
          "base_uri": "https://localhost:8080/"
        },
        "outputId": "d2470872-5ac2-4ae7-f695-b4b77a52f3d2"
      },
      "outputs": [
        {
          "output_type": "stream",
          "name": "stdout",
          "text": [
            "{'tempo_gasto_site': '68.95', 'idade': 35, 'renda_area': 61833.9, 'tempo_gasto_internet': 256.09, 'cidade': 'Wrightburgh', 'pais': 'Tunisia', 'clicou_no_ad': 0}\n",
            "{'tempo_gasto_site': 80.23, 'idade': 31, 'renda_area': 68441.85, 'tempo_gasto_internet': 349.77, 'cidade': 'West Jodi', 'pais': 'Nauru', 'clicou_no_ad': 0}\n",
            "{'tempo_gasto_site': 69.47, 'idade': 26, 'renda_area': 59785.94, 'tempo_gasto_internet': 236.5, 'cidade': 'Davidton', 'pais': 'San Marino', 'clicou_no_ad': 1}\n",
            "{'tempo_gasto_site': True, 'idade': 35, 'renda_area': 73889.99, 'tempo_gasto_internet': 55.58, 'cidade': 'South Manuel', 'pais': 'Iceland', 'clicou_no_ad': 0}\n",
            "{'tempo_gasto_site': 88.91, 'idade': 33, 'renda_area': 53852.85, 'tempo_gasto_internet': 20.36, 'cidade': 'Brandonstad', 'pais': 'Myanmar', 'clicou_no_ad': 3}\n",
            "{'tempo_gasto_site': None, 'idade': 48, 'renda_area': 24593.33, 'tempo_gasto_internet': 131.76, 'cidade': 'Port Jefferybury', 'pais': 'Australia', 'clicou_no_ad': 1}\n",
            "{'tempo_gasto_site': 74.53, 'idade': 30, 'renda_area': 68862.0, 'tempo_gasto_internet': 81.51, 'cidade': 'West Colin', 'pais': 'Grenada'}\n",
            "{'tempo_gasto_site': 69.88, 'idade': 20, 'renda_area': 55642.32, 'tempo_gasto_internet': 183.82, 'cidade': 'Ramirezton', 'pais': 'Ghana', 'clicou_no_ad': 0}\n"
          ]
        }
      ],
      "source": [
        "for dado_de_usuario in propaganda_online:\n",
        "  print(dado_de_usuario)"
      ]
    },
    {
      "cell_type": "markdown",
      "metadata": {
        "id": "_jkxyqruyHEV"
      },
      "source": [
        "1.1. Imprime os seguintes valores da lista:\n",
        "`tempo_gasto_site` e `idade`\n",
        "\n",
        "Dica: Utilize os conceitos de chave e valor de elementos de uma lista para selecionar os valores de uma chave (lista[chave]), conforme exemplo abaixo, na qual imprime somente os dados da chave `cidade`:"
      ]
    },
    {
      "cell_type": "code",
      "execution_count": 67,
      "metadata": {
        "colab": {
          "base_uri": "https://localhost:8080/"
        },
        "id": "cPpN7MNgyHEW",
        "outputId": "1e28a5b7-110f-415c-d338-eb9870f92cb8"
      },
      "outputs": [
        {
          "output_type": "stream",
          "name": "stdout",
          "text": [
            "Wrightburgh\n",
            "West Jodi\n",
            "Davidton\n",
            "South Manuel\n",
            "Brandonstad\n",
            "Port Jefferybury\n",
            "West Colin\n",
            "Ramirezton\n"
          ]
        }
      ],
      "source": [
        "for dado_de_usuario in propaganda_online:\n",
        "    print(dado_de_usuario['cidade']);"
      ]
    },
    {
      "cell_type": "markdown",
      "metadata": {
        "id": "xg8TO54xyHEX"
      },
      "source": [
        "Extrair os valores da chave tempo_gasto_site"
      ]
    },
    {
      "cell_type": "code",
      "execution_count": 68,
      "metadata": {
        "colab": {
          "base_uri": "https://localhost:8080/"
        },
        "id": "VCnBfmT7yHEX",
        "outputId": "932e875b-4453-4dba-92f4-f815a1350681"
      },
      "outputs": [
        {
          "output_type": "stream",
          "name": "stdout",
          "text": [
            "68.95\n",
            "80.23\n",
            "69.47\n",
            "True\n",
            "88.91\n",
            "None\n",
            "74.53\n",
            "69.88\n"
          ]
        }
      ],
      "source": [
        "for dado_de_usuario in propaganda_online: # PARA \"dado_de usuario\" EM \"propaganda_online\" FAÇA: \\/\n",
        "  print(dado_de_usuario['tempo_gasto_site']); # Mostre os valores da chave \"tempo_gasto_site\" presente no discionário \"dado_de_usuario\";"
      ]
    },
    {
      "cell_type": "markdown",
      "metadata": {
        "id": "5gICzaojyHEX"
      },
      "source": [
        "Extrair os valores da chave idade"
      ]
    },
    {
      "cell_type": "code",
      "execution_count": 69,
      "metadata": {
        "colab": {
          "base_uri": "https://localhost:8080/"
        },
        "id": "udRR2cqByHEY",
        "outputId": "760a2db7-f5cf-4262-b85d-040d7f27a9dd"
      },
      "outputs": [
        {
          "output_type": "stream",
          "name": "stdout",
          "text": [
            "35\n",
            "31\n",
            "26\n",
            "35\n",
            "33\n",
            "48\n",
            "30\n",
            "20\n"
          ]
        }
      ],
      "source": [
        "for dado_de_usuario in propaganda_online: # PARA \"dado_de usuario\" EM \"propaganda_online\" FAÇA: \\/\n",
        "  print(dado_de_usuario['idade']); # Mostre os valores da chave \"idade\" presente no discionário \"dado_de_usuario\";"
      ]
    },
    {
      "cell_type": "markdown",
      "metadata": {
        "id": "G5MDwLE6yHEY"
      },
      "source": [
        "## 2\\. Estrutura condicional if / else"
      ]
    },
    {
      "cell_type": "markdown",
      "metadata": {
        "id": "B5eIUPQEyHEY"
      },
      "source": [
        "2.1. Utilize a estrutura if/else para imprimir a cidade dos usuários que gastaram mais de 100 horas de tempo na internet\n",
        "\n",
        "Dica: Após a iteração dos elementos da lista (Através da estrutura condicional FOR),  utilize a estrutura if/else para criar a condição dos valores da chave `tempo_gasto_internet`"
      ]
    },
    {
      "cell_type": "code",
      "execution_count": 70,
      "metadata": {
        "colab": {
          "base_uri": "https://localhost:8080/"
        },
        "id": "o3Y0VtC6yHEY",
        "outputId": "1e229767-b1bf-4ea6-c27b-aafe121b0da8"
      },
      "outputs": [
        {
          "output_type": "stream",
          "name": "stdout",
          "text": [
            "Em Wrightburgh foram gastas:\n",
            "256.09 horas online;\n",
            "\n",
            "\n",
            "Em West Jodi foram gastas:\n",
            "349.77 horas online;\n",
            "\n",
            "\n",
            "Em Davidton foram gastas:\n",
            "236.5 horas online;\n",
            "\n",
            "\n",
            "Em Port Jefferybury foram gastas:\n",
            "131.76 horas online;\n",
            "\n",
            "\n",
            "Em Ramirezton foram gastas:\n",
            "183.82 horas online;\n",
            "\n",
            "\n"
          ]
        }
      ],
      "source": [
        "for dado_de_usuario in propaganda_online: # PARA \"dado_de usuario\" EM \"propaganda_online\" FAÇA: \\/\n",
        "  if ((dado_de_usuario['tempo_gasto_internet']) < 100): # SE for verdade que o \"tempo_gasto_internet\", do usuário, é menor que 100 horas FAÇA: \\/\n",
        "    continue; # Continue o código sem alterações;\n",
        "  \n",
        "  else: # SE NÃO for verdade FAÇA: \\/\n",
        "    print('Em ' + dado_de_usuario['cidade'] + ' foram gastas:'); # Mostre a string \"Em \" concatenue a o valor da chave \"cidade\" presente no discionário \"dado_de_usuario\" e concatenue a \" foram gastas:\";\n",
        "    print(str(dado_de_usuario['tempo_gasto_internet']) + ' horas online;'); # Mostre o valor da chave \"tempo_gasto_internet\" presente no discionário \"dado_de_usuario\" convertendo o valor resultante em type string e concatenue a \" horas online;\";\n",
        "    print('\\n'); # Caracter especial que pula um parágrafo;"
      ]
    },
    {
      "cell_type": "markdown",
      "metadata": {
        "id": "NObc4mMyyHEZ"
      },
      "source": [
        "## 3\\. Estrutura condicional try / except"
      ]
    },
    {
      "cell_type": "markdown",
      "metadata": {
        "id": "lELEiwOPyHEZ"
      },
      "source": [
        "3.1. Utilize a estrutura try/except para imprimir as cidades dos usuários que passaram mais de 70 segundos no site. \n",
        "\n",
        "Dica: Realize o tratamento de exceções dentro da execução da iteração dos elementos da lista"
      ]
    },
    {
      "cell_type": "code",
      "execution_count": 71,
      "metadata": {
        "id": "ARK4LugiyHEZ",
        "colab": {
          "base_uri": "https://localhost:8080/"
        },
        "outputId": "f74aa70c-353f-4953-e561-b538128ea5d2"
      },
      "outputs": [
        {
          "output_type": "stream",
          "name": "stdout",
          "text": [
            "West Jodi\n",
            "Brandonstad\n",
            "West Colin\n"
          ]
        }
      ],
      "source": [
        "for dado_de_usuario in propaganda_online: # PARA \"dado_de usuario\" EM \"propaganda_online\" FAÇA: \\/\n",
        "    try: # ESPERA-SE que: \\/\n",
        "      if ((dado_de_usuario['tempo_gasto_site']) > 70): # SE for verdade que o \"tempo_gasto_site\", do usuário, é maior que 70 segundos FAÇA: \\/\n",
        "        print(dado_de_usuario['cidade']); # Mostre o valor da chave \"tempo_gasto_site\" presente no discionário \"dado_de_usuario\";\n",
        "   \n",
        "    except TypeError: # EXCETO no erro de tipo, então FAÇA: \\/\n",
        "      continue; # Continue o código sem alterações;\n",
        "    except Exception: # EXCETO no erro genérico, então FAÇA: \\/\n",
        "      continue; # Continue o código sem alterações;"
      ]
    },
    {
      "cell_type": "markdown",
      "metadata": {
        "id": "xC0hFKVryHEa"
      },
      "source": [
        "# Exercício bônus"
      ]
    },
    {
      "cell_type": "markdown",
      "metadata": {
        "id": "muD1vxozykSC"
      },
      "source": [
        "## 1\\. Dados de interação de usuários com propagandas online"
      ]
    },
    {
      "cell_type": "markdown",
      "metadata": {
        "id": "KI9zQRT2xa7m"
      },
      "source": [
        "1.1. Crie uma lista chamada `paises` com o pais dos usuários com mais de 30 anos. \n",
        "\n",
        "Dica: Para armazenar os países dos usuários na lista `paises` utilize o método append()."
      ]
    },
    {
      "cell_type": "code",
      "execution_count": 72,
      "metadata": {
        "id": "fvYOUhoN-dxd",
        "outputId": "c4d88843-a388-4763-d302-416275e68e14",
        "colab": {
          "base_uri": "https://localhost:8080/"
        }
      },
      "outputs": [
        {
          "output_type": "stream",
          "name": "stdout",
          "text": [
            "['Tunisia', 'Nauru', 'Iceland', 'Myanmar', 'Australia']\n"
          ]
        }
      ],
      "source": [
        "paises = [] # Lista vazia;\n",
        "\n",
        "for dado_de_usuario in propaganda_online: # PARA \"dado_de usuario\" EM \"propaganda_online\" FAÇA: \\/\n",
        "  if ((dado_de_usuario['idade']) > 30): # SE for verdade a \"idade\" do usuário, presente no discionário \"dado_de_usuario\", maior que 70 FAÇA: \\/\n",
        "    paises.append(dado_de_usuario['pais']); # Adicione a lista \"paises\" o \"pais\" do usuario, presente no discionário \"dado_de_usuario\";\n",
        "\n",
        "print(paises); # Mostre a lista \"paises\";"
      ]
    },
    {
      "cell_type": "markdown",
      "metadata": {
        "id": "zMN1Q3jdwoJm"
      },
      "source": [
        "---"
      ]
    },
    {
      "cell_type": "markdown",
      "metadata": {
        "id": "LU_VIEdD_PrZ"
      },
      "source": [
        "1.2. Crie uma lista chamada `leads` com a renda dos usuários que clicaram na propaganda. \n",
        "\n",
        "Dica: Para armazenar a renda dos usuários na lista `leads` utilize o método append()."
      ]
    },
    {
      "cell_type": "code",
      "execution_count": 64,
      "metadata": {
        "id": "3mTbsme4_Pr0",
        "outputId": "8fec40bd-a16d-4f47-99d7-297b92b1dbc2",
        "colab": {
          "base_uri": "https://localhost:8080/"
        }
      },
      "outputs": [
        {
          "output_type": "stream",
          "name": "stdout",
          "text": [
            "[59785.94, 53852.85, 24593.33]\n"
          ]
        }
      ],
      "source": [
        "leads = [] # Lista vazia;\n",
        "\n",
        "try: # ESPERA-SE que: \\/\n",
        "  for dado_de_usuario in propaganda_online: # PARA \"dado_de usuario\" EM \"propaganda_online\" FAÇA: \\/\n",
        "    if ((dado_de_usuario['clicou_no_ad']) != 0): # SE for verdade que \"clicou_no_ad\" é diferente de 0 FAÇA:\n",
        "      leads.append(dado_de_usuario['renda_area']);# Adicione a lista \"leads\" a chave \"renda_area\", presente no discionário \"dado_de_usuario\";\n",
        "  \n",
        "  print(leads); # Mostre a lista \"leads\";\n",
        "\n",
        "except KeyError: # EXCETO um erro de Chave, então FAÇA: \\/\n",
        "  dado_de_usuario['clicou_no_ad'] = 0; # Crie a chave \"clicou_no_ad\" c/ valor 0 nos trechos, prensentes no dicionário \"dado_de_usuario\", que não possuir a chave;"
      ]
    },
    {
      "cell_type": "markdown",
      "metadata": {
        "id": "4_L-WULHAesN"
      },
      "source": [
        "---"
      ]
    }
  ],
  "metadata": {
    "colab": {
      "provenance": [],
      "toc_visible": true
    },
    "kernelspec": {
      "display_name": "Python 3 (ipykernel)",
      "language": "python",
      "name": "python3"
    },
    "language_info": {
      "codemirror_mode": {
        "name": "ipython",
        "version": 3
      },
      "file_extension": ".py",
      "mimetype": "text/x-python",
      "name": "python",
      "nbconvert_exporter": "python",
      "pygments_lexer": "ipython3",
      "version": "3.9.7"
    }
  },
  "nbformat": 4,
  "nbformat_minor": 0
}