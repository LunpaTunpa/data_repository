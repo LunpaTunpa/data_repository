{
  "cells": [
    {
      "cell_type": "markdown",
      "metadata": {
        "id": "KJqp9AANOCtf"
      },
      "source": [
        "<img src=\"https://raw.githubusercontent.com/andre-marcos-perez/ebac-course-utils/main/media/logo/newebac_logo_black_half.png\" alt=\"ebac-logo\">\n",
        "\n",
        "---\n",
        "\n",
        "# **Módulo** | Python: Arquivos & Funções\n",
        "Caderno de **Exercícios**<br> \n",
        "Professor [André Perez](https://www.linkedin.com/in/andremarcosperez/)\n",
        "\n",
        "---"
      ]
    },
    {
      "cell_type": "markdown",
      "metadata": {
        "id": "d9jDtUbDOE1-"
      },
      "source": [
        "# **Tópicos**\n",
        "\n",
        "<ol type=\"1\">\n",
        "  <li>Leitura;</li>\n",
        "  <li>Escrita;</li>\n",
        "  <li>Funções;</li>\n",
        "  <li>Escopo.</li>\n",
        "</ol>"
      ]
    },
    {
      "cell_type": "markdown",
      "metadata": {
        "id": "SmoHgt-lwkpD"
      },
      "source": [
        "---"
      ]
    },
    {
      "cell_type": "markdown",
      "metadata": {
        "id": "GABI6OW8OfQ2"
      },
      "source": [
        "# **Exercícios**"
      ]
    },
    {
      "cell_type": "markdown",
      "metadata": {
        "id": "muD1vxozykSC"
      },
      "source": [
        "## 0\\. Preparação do ambiente"
      ]
    },
    {
      "cell_type": "markdown",
      "metadata": {
        "id": "ahrFfCuBxJKs"
      },
      "source": [
        "Neste exercício vamos trabalhar com os arquivos de csv e texto definidos abaixo. Execute cada uma das células de código para escrever os arquivos na sua máquina virtual."
      ]
    },
    {
      "cell_type": "markdown",
      "metadata": {
        "id": "u0uFuhRSq_hQ"
      },
      "source": [
        "* **carros.csv**: arquivo csv com informações sobre carros (venda, manutenção, portas, etc.)."
      ]
    },
    {
      "cell_type": "code",
      "execution_count": 1,
      "metadata": {
        "id": "daMf-xaXqKs2",
        "colab": {
          "base_uri": "https://localhost:8080/"
        },
        "outputId": "0ee73857-5a61-4a5b-8d79-2201db5f9bcb"
      },
      "outputs": [
        {
          "output_type": "stream",
          "name": "stdout",
          "text": [
            "Writing carros.csv\n"
          ]
        }
      ],
      "source": [
        "%%writefile carros.csv\n",
        "id,valor_venda,valor_manutencao,portas,pessoas,porta_malas\n",
        "1,vhigh,med,2,2,small\n",
        "2,med,vhigh,2,2,small\n",
        "3,low,vhigh,2,2,small\n",
        "4,low,high,2,2,small\n",
        "5,low,high,2,2,small\n",
        "6,low,high,4,4,big\n",
        "7,low,high,4,4,big\n",
        "8,low,med,2,2,small\n",
        "9,low,med,2,2,small\n",
        "10,low,med,2,2,small\n",
        "11,low,med,4,4,big\n",
        "12,low,low,2,2,small\n",
        "13,low,low,4,4,small\n",
        "14,low,low,4,4,med"
      ]
    },
    {
      "cell_type": "markdown",
      "metadata": {
        "id": "X0Z2PhbCrTz1"
      },
      "source": [
        "* **musica.txt**: arquivo texto com a letra da música Roda Viva do Chico Buarque."
      ]
    },
    {
      "cell_type": "code",
      "execution_count": 2,
      "metadata": {
        "id": "m7Ge2rggrU73",
        "colab": {
          "base_uri": "https://localhost:8080/"
        },
        "outputId": "96947421-14ee-41b1-bdc0-3480c6c724a7"
      },
      "outputs": [
        {
          "output_type": "stream",
          "name": "stdout",
          "text": [
            "Writing musica.txt\n"
          ]
        }
      ],
      "source": [
        "%%writefile musica.txt\n",
        "Roda Viva\n",
        "Chico Buarque\n",
        "\n",
        "Tem dias que a gente se sente\n",
        "Como quem partiu ou morreu\n",
        "A gente estancou de repente\n",
        "Ou foi o mundo então que cresceu\n",
        "A gente quer ter voz ativa\n",
        "No nosso destino mandar\n",
        "Mas eis que chega a roda viva\n",
        "E carrega o destino pra lá\n",
        "\n",
        "Roda mundo, roda-gigante\n",
        "Roda moinho, roda pião\n",
        "\n",
        "O tempo rodou num instante\n",
        "Nas voltas do meu coração\n",
        "A gente vai contra a corrente\n",
        "Até não poder resistir\n",
        "Na volta do barco é que sente\n",
        "O quanto deixou de cumprir\n",
        "Faz tempo que a gente cultiva\n",
        "A mais linda roseira que há\n",
        "Mas eis que chega a roda viva\n",
        "E carrega a roseira pra lá\n",
        "\n",
        "Roda mundo, roda-gigante\n",
        "Roda moinho, roda pião"
      ]
    },
    {
      "cell_type": "markdown",
      "metadata": {
        "id": "zMN1Q3jdwoJm"
      },
      "source": [
        "---"
      ]
    },
    {
      "cell_type": "markdown",
      "metadata": {
        "id": "3_JYgoN4x_mG"
      },
      "source": [
        "## 1. Extração de coluna de arquivo csv "
      ]
    },
    {
      "cell_type": "markdown",
      "metadata": {
        "id": "EUdmEGIqx_mI"
      },
      "source": [
        "1.1. Extraia os valores `valor_venda` e armazena em uma lista."
      ]
    },
    {
      "cell_type": "code",
      "execution_count": 3,
      "metadata": {
        "colab": {
          "base_uri": "https://localhost:8080/"
        },
        "id": "qaY3BcxAx_mJ",
        "outputId": "21f54d7c-57db-4d16-e389-c6b007e8c312"
      },
      "outputs": [
        {
          "output_type": "stream",
          "name": "stdout",
          "text": [
            "['vhigh', 'med', 'low', 'low', 'low', 'low', 'low', 'low', 'low', 'low', 'low', 'low', 'low', 'low']\n"
          ]
        }
      ],
      "source": [
        "valor_venda = []; # Lista\n",
        "\n",
        "# ABRA COM aquivo de nome \"carros.csv\" em modo de leitura na codificação \"utf8\" e atribua o apilido de \"aquivo_venda\": \\/\n",
        "with open(file='./carros.csv', mode='r', encoding='utf8') as arquivo_venda:\n",
        "    linha = arquivo_venda.readline(); # Lê a linha do cabeçalho;\n",
        "    linha = arquivo_venda.readline(); # Lê a primeira linha;\n",
        "    # ENQUANTO for verdade que a linhas em \"linha\" FAÇA: \\/\n",
        "    while linha:\n",
        "        linha_venda = linha.split(sep=','); # Quebra a string nas virgulas e salva os resultados em uma lista;\n",
        "        venda = linha_venda[1]; # Seleciona o segundo elemento da lista;\n",
        "        valor_venda.append(venda); # Salva o valor na lista de valor_venda;\n",
        "        linha = arquivo_venda.readline(); # Lê uma nova linha, se a linha não existir, salva o valor None;\n",
        "\n",
        "print(valor_venda); # Mostre ..."
      ]
    },
    {
      "cell_type": "markdown",
      "metadata": {
        "id": "peuuJyG-x_mK"
      },
      "source": [
        "1.2 Complete a função abaixo para extrair uma coluna, do arquivo csv em uma lista.\n"
      ]
    },
    {
      "cell_type": "code",
      "execution_count": 4,
      "metadata": {
        "id": "ferreBV5x_mL"
      },
      "outputs": [],
      "source": [
        "# Função responsavel por extrair os elementos na posição de uma coluna definida pelo parâmetro \"indice_coluna\", contida no arquivo definido pelo parâmetro \"nome_arquivo\": \\/\n",
        "def extrai_coluna_csv(nome_arquivo: str, indice_coluna: int):\n",
        "\n",
        "  coluna = []; # Lista;\n",
        "\n",
        "  # ABRA COM aquivo contido no parâmetro \"nome_arquivo\" em modo de leitura = \"r\" na codificação \"utf8\" e atribua o apelido de \"filex\": \\/\n",
        "  with open(file=nome_arquivo, mode='r', encoding='utf8') as filex:\n",
        "    line = filex.readline(); # Leia o cabeçalho contido em \"filex\" e atribua a variável \"line\";\n",
        "    line = filex.readline(); # Leia a primeira linha de \"filex\" pós cabeçalho e atribua a variável \"line\";\n",
        "    # ENQUANTO for verdadeiro que á linhas em \"line\" FAÇA: \\/\n",
        "    while line:\n",
        "      break_line = line.split(sep=','); # Quebre as strings do arquivo contido em \"line\" nas virgulas e atribua a variável \"break_line\";\n",
        "      matrix_element = str(break_line[indice_coluna]); # Selecione o elemento = \"[indice_coluna]\" armazenado na lista \"break_line\" enquanto converte p/ o tipo string e atribua a variável \"matrix_element\";\n",
        "      coluna.append(matrix_element); # Adicione os valores em \"matrix_element\" a lista \"coluna\";\n",
        "      line = filex.readline(); # Leia uma nova linha presente em \"filex\", caso não exista delhe valor nulo;\n",
        "\n",
        "  # leia o arquivo com o comando 'with' utilizando o parametro 'nome_arquivo'\n",
        "  # extraia a coluna do arquivo utilizando o parametro 'indice_coluna'\n",
        "  \n",
        "    \n",
        "  return coluna; # Retone o valor da lista \"coluna\";"
      ]
    },
    {
      "cell_type": "markdown",
      "metadata": {
        "id": "xzgLfXfCx_mM"
      },
      "source": [
        "Você pode testar a função com os códigos abaixo."
      ]
    },
    {
      "cell_type": "code",
      "execution_count": 5,
      "metadata": {
        "colab": {
          "base_uri": "https://localhost:8080/"
        },
        "id": "U1-h9Fusx_mM",
        "outputId": "ccaae304-98e8-4268-bf81-02bc7e2d46d2"
      },
      "outputs": [
        {
          "output_type": "stream",
          "name": "stdout",
          "text": [
            "['med', 'vhigh', 'vhigh', 'high', 'high', 'high', 'high', 'med', 'med', 'med', 'med', 'low', 'low', 'low']\n"
          ]
        }
      ],
      "source": [
        "# extrair a coluna valor_manutencao\n",
        "valor_manutencao = extrai_coluna_csv(nome_arquivo='./carros.csv', indice_coluna=2); # Chama a função \"extrai_coluna_csv\" e passa os parâmentros \"nome_arquivo\" e \"indice_coluna\";\n",
        "print(valor_manutencao) # deve retornar ['med', 'vhigh', 'vhigh', ...]"
      ]
    },
    {
      "cell_type": "code",
      "execution_count": 6,
      "metadata": {
        "colab": {
          "base_uri": "https://localhost:8080/"
        },
        "id": "CDV61ZBUx_mO",
        "outputId": "8c8b886a-9ef9-4103-8008-9da4ac24157c"
      },
      "outputs": [
        {
          "output_type": "stream",
          "name": "stdout",
          "text": [
            "['small\\n', 'small\\n', 'small\\n', 'small\\n', 'small\\n', 'big\\n', 'big\\n', 'small\\n', 'small\\n', 'small\\n', 'big\\n', 'small\\n', 'small\\n', 'med\\n']\n"
          ]
        }
      ],
      "source": [
        "# extrair a coluna porta_malas\n",
        "porta_malas = extrai_coluna_csv(nome_arquivo='./carros.csv', indice_coluna=5); # Chama a função \"extrai_coluna_csv\" e passa os parâmentros \"nome_arquivo\" e \"indice_coluna\";\n",
        "print(porta_malas) # deve retornar ['small', 'small', 'small', ...]"
      ]
    },
    {
      "cell_type": "markdown",
      "metadata": {
        "id": "Te9J-pScx_mP"
      },
      "source": [
        "# Exercício bônus"
      ]
    },
    {
      "cell_type": "markdown",
      "metadata": {
        "id": "U4S19ZvHsPcE"
      },
      "source": [
        "## 1\\. Funções para arquivo csv"
      ]
    },
    {
      "cell_type": "markdown",
      "metadata": {
        "id": "Mcf3mkOrtHzK"
      },
      "source": [
        "Complete a função abaixo para extrair uma coluna do arquivo csv em uma lista. Os elementos devem ter o tipo de dado correto."
      ]
    },
    {
      "cell_type": "code",
      "execution_count": 7,
      "metadata": {
        "id": "W-1PAg7Ctt7i"
      },
      "outputs": [],
      "source": [
        "# Função responsavel por extrair os elementos na posição de uma coluna definida pelo parâmetro \"indice_coluna\", contida no arquivo definido pelo parâmetro \"nome_arquivo\" e converte o conteudo extraido em \"coluna\" no respectivo tipo de dado: \\/\n",
        "def extrai_coluna_csv(nome_arquivo: str, indice_coluna: int, tipo_dado: str):\n",
        "\n",
        "  coluna = [] # Lista;\n",
        "\n",
        "  # ABRA COM aquivo contido no parâmetro \"nome_arquivo\" em modo de leitura = \"r\" na codificação \"utf8\" e atribua o apelido de \"filex\": \\/\n",
        "  with open(file=nome_arquivo, mode='r', encoding='utf8') as filex:\n",
        "    line = filex.readline(); # Leia o cabeçalho contido em \"filex\" e atribua a variável \"line\";\n",
        "    line = filex.readline(); # Leia a primeira linha de \"filex\" pós cabeçalho e atribua a variável \"line\";\n",
        "\n",
        "    # ENQUANTO for verdadeiro que á linhas em \"line\" FAÇA: \\/\n",
        "    while line:\n",
        "        break_line = line.split(sep=','); # Quebre as strings do arquivo contido em \"line\" nas virgulas e atribua a variável \"break_line\";\n",
        "\n",
        "        # ESPERA-SE que: \\/\n",
        "        try:\n",
        "\n",
        "          # SE for verdade que o parâmentro \"tipo_dado\" é igual á \"str\" FAÇA: \\/\n",
        "          if (tipo_dado == 'str'):\n",
        "            matrix_element = str(break_line[indice_coluna]); # Selecione o elemento = \"[indice_coluna]\" armazenado na lista \"break_line\" enquanto converte p/ o tipo string e atribua a variável \"matrix_element\";\n",
        "\n",
        "          # SE for verdade que o parâmentro \"tipo_dado\" é igual á \"int\" FAÇA: \\/\n",
        "          elif (tipo_dado == 'int'):\n",
        "            matrix_element = int(break_line[indice_coluna]); # Selecione o elemento = \"[indice_coluna]\" armazenado na lista \"break_line\" enquanto converte p/ o tipo int e atribua a variável \"matrix_element\";\n",
        "\n",
        "          # SE for verdade que o parâmentro \"tipo_dado\" é igual á \"float\" FAÇA: \\/\n",
        "          elif (tipo_dado == 'float'):\n",
        "            matrix_element = float(break_line[indice_coluna]); # Selecione o elemento = \"[indice_coluna]\" armazenado na lista \"break_line\" enquanto converte p/ o tipo float e atribua a variável \"matrix_element\";\n",
        "\n",
        "          # SE for verdade que o parâmentro \"tipo_dado\" é igual á \"float\" FAÇA: \\/\n",
        "          elif (tipo_dado == 'bool'):\n",
        "            matrix_element = bool(break_line[indice_coluna]); # Selecione o elemento = \"[indice_coluna]\" armazenado na lista \"break_line\" enquanto converte p/ o tipo bool e atribua a variável \"matrix_element\";\n",
        "\n",
        "          # SE NÃO for verdade que o parâmentro \"tipo_dado\" é igual á \"str\" ou \"int\" ou \"float\" ou \"bool\" FAÇA: \\/\n",
        "          else:\n",
        "            print(f'Error! Unsupported data type \"{tipo_dado}\".'); # Mostre uma mensagem contendo o valor do dado inserido errado;\n",
        "            break; # Quebre a repetição While;\n",
        "\n",
        "          coluna.append(matrix_element); # Adicione os valores em \"matrix_element\" a lista \"coluna\";\n",
        "          line = filex.readline(); # Leia uma nova linha presente em \"filex\", caso não exista delhe valor nulo;\n",
        "        \n",
        "        # EXCETO no erro de tipo, então FAÇA: \\/\n",
        "        except IndexError:\n",
        "          print(f'Error! The {indice_coluna} value is greater than the maximum \"coluna\" size.'); # Mostre uma mensagem contendo o valor do dado inserido errado;\n",
        "          break; # Quebre a repetição While;\n",
        "\n",
        "  # leia o arquivo com o comando 'with' utilizando o parametro 'nome_arquivo'\n",
        "  # extraia a coluna do arquivo utilizando o parametro 'indice_coluna'\n",
        "  # use a estrutura de decisão if/elif/else para fazer a conversão do tipo de dados utilizando o parametro 'tipo_dado'\n",
        "\n",
        "  return coluna; # Retone o valor da lista \"coluna\";"
      ]
    },
    {
      "cell_type": "markdown",
      "metadata": {
        "id": "qCbQF6jru_01"
      },
      "source": [
        "Você pode testar a função com os códigos abaixo."
      ]
    },
    {
      "cell_type": "code",
      "execution_count": 8,
      "metadata": {
        "id": "Rl-EYdySu90s",
        "colab": {
          "base_uri": "https://localhost:8080/"
        },
        "outputId": "15747e4a-9b97-4882-85c0-8d6d66e7abde"
      },
      "outputs": [
        {
          "output_type": "stream",
          "name": "stdout",
          "text": [
            "['vhigh', 'med', 'low', 'low', 'low', 'low', 'low', 'low', 'low', 'low', 'low', 'low', 'low', 'low']\n"
          ]
        }
      ],
      "source": [
        "# extrair a coluna valor_venda\n",
        "valor_venda = extrai_coluna_csv(nome_arquivo='./carros.csv', indice_coluna=1, tipo_dado='str') # Chama a função \"extrai_coluna_csv\" e passa os parâmentros \"nome_arquivo\", \"indice_coluna\" e \"tipo_dado\";\n",
        "print(valor_venda) # deve retornar ['vhigh', 'med', 'low', ...]"
      ]
    },
    {
      "cell_type": "code",
      "execution_count": 9,
      "metadata": {
        "id": "hvD-zzwDwboD",
        "colab": {
          "base_uri": "https://localhost:8080/"
        },
        "outputId": "6a65d7fe-25d4-4ad3-c7c0-754369707fd6"
      },
      "outputs": [
        {
          "output_type": "stream",
          "name": "stdout",
          "text": [
            "[2, 2, 2, 2, 2, 4, 4, 2, 2, 2, 4, 2, 4, 4]\n"
          ]
        }
      ],
      "source": [
        "# extrair a coluna pessoas\n",
        "pessoas = extrai_coluna_csv(nome_arquivo='./carros.csv', indice_coluna=4, tipo_dado='int') # Chama a função \"extrai_coluna_csv\" e passa os parâmentros \"nome_arquivo\", \"indice_coluna\" e \"tipo_dado\";\n",
        "print(pessoas) # deve retornar [2, 2, 2, ...]"
      ]
    },
    {
      "cell_type": "markdown",
      "metadata": {
        "id": "QTS5-sSbs4ie"
      },
      "source": [
        "---"
      ]
    },
    {
      "cell_type": "markdown",
      "metadata": {
        "id": "sebqs6uztCH4"
      },
      "source": [
        "## 2\\. Funções para arquivo txt"
      ]
    },
    {
      "cell_type": "markdown",
      "metadata": {
        "id": "IFVBGkNhzB3P"
      },
      "source": [
        "Complete a função abaixo para extrair uma as palavras de uma linha do arquivo txt em uma lista."
      ]
    },
    {
      "cell_type": "code",
      "execution_count": 22,
      "metadata": {
        "id": "ewrNqMtczWZJ"
      },
      "outputs": [],
      "source": [
        "def extrai_linha_txt(nome_arquivo: str, numero_linha= int):\n",
        "\n",
        "  palavras_linha = []; # Lista;\n",
        "\n",
        "  # ABRA COM aquivo contido no parâmetro \"nome_arquivo\" em modo de leitura = \"r\" na codificação \"utf8\" e atribua o apelido de \"filex\": \\/\n",
        "  with open(file=nome_arquivo, mode='r', encoding='utf8') as filex:\n",
        "    line = filex.readlines()[numero_linha - 1]; # Leia as linhas contidas em \"filex\", releie a linha passada pelo parâmetro \"numero_linha\" - 1 posição e atribua a variável \"line\";\n",
        "    break_line = line.split(' '); # Quebre as strings do arquivo contido em \"line\" nos espaços e atribua a variável \"break_line\";\n",
        "    palavras_linha.append(break_line); # Adicione os valores em \"break_line\" a lista \"palavras_linha\";\n",
        "\n",
        "  # leia o arquivo com o comando 'with' utilizando o parametro 'nome_arquivo'\n",
        "  # extraia a linha do arquivo utilizando o parametro 'numero_linha'\n",
        "  # quebre a linha em palavras com o comando split, note que o separador é um espaço ' '\n",
        "\n",
        "  return palavras_linha; # Retone o valor da lista \"palavras_linha\";"
      ]
    },
    {
      "cell_type": "markdown",
      "metadata": {
        "id": "Qz2UwipIz0t2"
      },
      "source": [
        "Você pode testar a função com os códigos abaixo."
      ]
    },
    {
      "cell_type": "code",
      "execution_count": 23,
      "metadata": {
        "id": "_Wxp43qqz1V2",
        "colab": {
          "base_uri": "https://localhost:8080/"
        },
        "outputId": "41efc834-bcd5-4163-b35d-bafb57c1e8a7"
      },
      "outputs": [
        {
          "output_type": "stream",
          "name": "stdout",
          "text": [
            "[['Mas', 'eis', 'que', 'chega', 'a', 'roda', 'viva\\n']]\n"
          ]
        }
      ],
      "source": [
        "linha10 = extrai_linha_txt(nome_arquivo='./musica.txt', numero_linha=10)\n",
        "print(linha10) # deve retornar ['Mas', 'eis', 'que', 'chega', 'a', 'roda', 'viva']"
      ]
    },
    {
      "cell_type": "markdown",
      "metadata": {
        "id": "Fo9qTjietCH6"
      },
      "source": [
        "---"
      ]
    }
  ],
  "metadata": {
    "colab": {
      "provenance": []
    },
    "kernelspec": {
      "display_name": "Python 3 (ipykernel)",
      "language": "python",
      "name": "python3"
    },
    "language_info": {
      "codemirror_mode": {
        "name": "ipython",
        "version": 3
      },
      "file_extension": ".py",
      "mimetype": "text/x-python",
      "name": "python",
      "nbconvert_exporter": "python",
      "pygments_lexer": "ipython3",
      "version": "3.9.7"
    }
  },
  "nbformat": 4,
  "nbformat_minor": 0
}