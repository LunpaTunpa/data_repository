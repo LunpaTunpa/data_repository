{
  "cells": [
    {
      "cell_type": "markdown",
      "metadata": {
        "id": "KJqp9AANOCtf"
      },
      "source": [
        "<img src=\"https://raw.githubusercontent.com/andre-marcos-perez/ebac-course-utils/main/media/logo/newebac_logo_black_half.png\" alt=\"ebac-logo\">\n",
        "\n",
        "---\n",
        "\n",
        "# **Módulo** | Python: Programação Funcional\n",
        "Caderno de **Exercícios**<br> \n",
        "Professor [André Perez](https://www.linkedin.com/in/andremarcosperez/)\n",
        "\n",
        "---"
      ]
    },
    {
      "cell_type": "markdown",
      "metadata": {
        "id": "d9jDtUbDOE1-"
      },
      "source": [
        "# **Tópicos**\n",
        "\n",
        "<ol type=\"1\">\n",
        "  <li>Função lambda;</li>\n",
        "  <li>Função map;</li>\n",
        "  <li>Função filter;</li>\n",
        "  <li>Função reduce.</li>\n",
        "</ol>"
      ]
    },
    {
      "cell_type": "markdown",
      "metadata": {
        "id": "SmoHgt-lwkpD"
      },
      "source": [
        "---"
      ]
    },
    {
      "cell_type": "markdown",
      "metadata": {
        "id": "GABI6OW8OfQ2"
      },
      "source": [
        "# **Exercícios**"
      ]
    },
    {
      "cell_type": "markdown",
      "metadata": {
        "id": "muD1vxozykSC"
      },
      "source": [
        "## 0\\. Preparação do ambiente "
      ]
    },
    {
      "cell_type": "markdown",
      "metadata": {
        "id": "ahrFfCuBxJKs"
      },
      "source": [
        "Neste exercício vamos trabalhar com o arquivo csv com dados de crédito, definido abaixo. Execute cada uma das células de código para escrever os arquivos na sua máquina virtual."
      ]
    },
    {
      "cell_type": "code",
      "execution_count": 1,
      "metadata": {
        "id": "Kjt3HvFX7C3A",
        "colab": {
          "base_uri": "https://localhost:8080/"
        },
        "outputId": "adffa11d-bd62-43f3-ab83-38faae348db6"
      },
      "outputs": [
        {
          "output_type": "stream",
          "name": "stdout",
          "text": [
            "Writing credito.csv\n"
          ]
        }
      ],
      "source": [
        "%%writefile credito.csv \n",
        "id_vendedor,valor_emprestimos,quantidade_emprestimos,data\n",
        "104271,448.0,1,20161208\n",
        "21476,826.7,3,20161208\n",
        "87440,313.6,3,20161208\n",
        "15980,-8008.0,6,20161208\n",
        "215906,2212.0,5,20161208\n",
        "33696,2771.3,2,20161208\n",
        "33893,2240.0,3,20161208\n",
        "214946,-4151.0,18,20161208\n",
        "123974,2021.95,2,20161208\n",
        "225870,4039.0,2,20161208"
      ]
    },
    {
      "cell_type": "markdown",
      "metadata": {
        "id": "tnhM9v2X7yGS"
      },
      "source": [
        "Vamos ler o conteúdo do arquivo em uma lista onde cada elemento é um dicionário representando as linhas do arquivo."
      ]
    },
    {
      "cell_type": "code",
      "execution_count": 2,
      "metadata": {
        "id": "T00Y_WIh7uPU"
      },
      "outputs": [],
      "source": [
        "emprestimos = [] # Lista ...\n",
        "# ABRA COM arquivo \"./credito.csv\" em modo de leitura \"r\" na condifiação \"utf8\" e atribua o apelido de \"fp\": \\/\n",
        "with open(file='./credito.csv', mode='r', encoding='utf8') as fp:\n",
        "  fp.readline() # Lê a linha do cabeçalho;\n",
        "  linha = fp.readline() # Lê a primeira linha e atribui a variavel \"linha\";\n",
        "  # ENQUANTO for verdade que a linhas em \"linha\" FAÇA: \\/\n",
        "  while linha:\n",
        "    linha_emprestimo = {} # Crei o discionário \"linha_emprestimo\";\n",
        "    linha_elementos = linha.strip().split(sep=',') # Quebre as strings em \"linha\" nas virgulas, retire os espaços e salve os resultados em lista no dicionario;\n",
        "    linha_emprestimo['id_vendedor'] = linha_elementos[0] # Crie para os elementos presentes na primeira coluna de \"linha\" a key \"id_vendedor\" e atribua ao discionario;\n",
        "    linha_emprestimo['valor_emprestimos'] = linha_elementos[1] # Crie para os elementos presentes na segunda coluna de \"linha\" a key \"valor_emprestimos\" e atribua ao discionario;\n",
        "    linha_emprestimo['quantidade_emprestimos'] = linha_elementos[2] # Crie para os elementos presentes na terceira coluna de \"linha\" a key \"quantidade_emprestimos\" e atribua ao discionario;\n",
        "    linha_emprestimo['data'] = linha_elementos[3] # Crie para os elementos presentes na quarta coluna de \"linha\" a key \"data\" e atribua ao discionario;\n",
        "    emprestimos.append(linha_emprestimo) # Adicione os valores em \"linha_emprestimos\" a lista \"emprestimos\";\n",
        "    linha = fp.readline()  # Leia uma nova linha presente em \"fp\", caso não exista delhe valor nulo;"
      ]
    },
    {
      "cell_type": "code",
      "execution_count": 3,
      "metadata": {
        "id": "Bp0ZgdTM84bw",
        "colab": {
          "base_uri": "https://localhost:8080/"
        },
        "outputId": "d1ec9cad-eb1d-4a90-b716-fc47d6e138e4"
      },
      "outputs": [
        {
          "output_type": "stream",
          "name": "stdout",
          "text": [
            "{'id_vendedor': '104271', 'valor_emprestimos': '448.0', 'quantidade_emprestimos': '1', 'data': '20161208'}\n",
            "{'id_vendedor': '21476', 'valor_emprestimos': '826.7', 'quantidade_emprestimos': '3', 'data': '20161208'}\n",
            "{'id_vendedor': '87440', 'valor_emprestimos': '313.6', 'quantidade_emprestimos': '3', 'data': '20161208'}\n",
            "{'id_vendedor': '15980', 'valor_emprestimos': '-8008.0', 'quantidade_emprestimos': '6', 'data': '20161208'}\n",
            "{'id_vendedor': '215906', 'valor_emprestimos': '2212.0', 'quantidade_emprestimos': '5', 'data': '20161208'}\n",
            "{'id_vendedor': '33696', 'valor_emprestimos': '2771.3', 'quantidade_emprestimos': '2', 'data': '20161208'}\n",
            "{'id_vendedor': '33893', 'valor_emprestimos': '2240.0', 'quantidade_emprestimos': '3', 'data': '20161208'}\n",
            "{'id_vendedor': '214946', 'valor_emprestimos': '-4151.0', 'quantidade_emprestimos': '18', 'data': '20161208'}\n",
            "{'id_vendedor': '123974', 'valor_emprestimos': '2021.95', 'quantidade_emprestimos': '2', 'data': '20161208'}\n",
            "{'id_vendedor': '225870', 'valor_emprestimos': '4039.0', 'quantidade_emprestimos': '2', 'data': '20161208'}\n"
          ]
        }
      ],
      "source": [
        "for emprestimo in emprestimos: # PARA valores de \"emprestimo\" EM \"emprestimos\" FAÇA: \\/\n",
        "  print(emprestimo) # Mostre \"emprestimo\";"
      ]
    },
    {
      "cell_type": "markdown",
      "metadata": {
        "id": "KI9zQRT2xa7m"
      },
      "source": [
        "## 1\\. Função `map`\n",
        "\n"
      ]
    },
    {
      "cell_type": "markdown",
      "metadata": {
        "id": "U63MjM7H7o1Y"
      },
      "source": [
        "Aplique a função map na lista de `emprestimos` para extrair os valores da chave `valor_emprestimos` na lista `valor_emprestimos_lista`. Faça também a conversão de `str` para `float`."
      ]
    },
    {
      "cell_type": "code",
      "source": [
        "# Atribua a variável \"valor_emprestimos_lista\" o mapeamento dos valores dados no parametro \"v_e\" da função lambda na chave \"valor_emprestimo\" presente no discionario...\n",
        "# ... associado \"emprestimos\", que está presente no aquivo \"credito.csv\", enquanto converte para o tipo float (decimal); \\/\n",
        "valor_emprestimos_lista = list(map(lambda v_e: float(v_e['valor_emprestimos']), emprestimos)); # \"v_e\" = valor_emprestimos;"
      ],
      "metadata": {
        "id": "PSrdGyN5jlo6"
      },
      "execution_count": 4,
      "outputs": []
    },
    {
      "cell_type": "code",
      "execution_count": 5,
      "metadata": {
        "id": "MQUvYdzJ9ndC",
        "colab": {
          "base_uri": "https://localhost:8080/"
        },
        "outputId": "0bb08190-c782-4d64-b1f3-9aa770c97808"
      },
      "outputs": [
        {
          "output_type": "stream",
          "name": "stdout",
          "text": [
            "[448.0, 826.7, 313.6, -8008.0, 2212.0, 2771.3, 2240.0, -4151.0, 2021.95, 4039.0]\n"
          ]
        }
      ],
      "source": [
        "print(valor_emprestimos_lista); # Mostre os valores contidos em \"valor_emprestimos_lista\" enquanto converte o espaço alocado na memória, pela função, em lista; [448.0, 826.7, ..., 4039.0]"
      ]
    },
    {
      "cell_type": "markdown",
      "metadata": {
        "id": "zMN1Q3jdwoJm"
      },
      "source": [
        "---"
      ]
    },
    {
      "cell_type": "markdown",
      "metadata": {
        "id": "WKHvMtFX_JKH"
      },
      "source": [
        "## 2\\. Função `filter`\n",
        "\n"
      ]
    },
    {
      "cell_type": "markdown",
      "metadata": {
        "id": "6V34N3Lf_gUM"
      },
      "source": [
        "Aplique a função filter na lista de `valor_emprestimos_lista` para filtrar apenas os valores maiores que zero (os valores negativas são erros na base de dados). Salve os valores na lista `valor_emprestimos_lista_filtrada`."
      ]
    },
    {
      "cell_type": "code",
      "execution_count": 6,
      "metadata": {
        "id": "3y7Vmm0yACuk"
      },
      "outputs": [],
      "source": [
        "# Atribua a variável \"valor_emprestimos_lista_filtrada\" a exclusão dos valores que retornarem false sendo menores que 0 nos valores dados no parametro \"v_e_l\" da função lambda ...\n",
        "# ... na lista associada \"valor_emprestimos_lista\"; \\/\n",
        "valor_emprestimos_lista_filtrada = list(filter(lambda v_e_l: v_e_l > 0, valor_emprestimos_lista)); # \"v_e_l\" = valor_emprestimos_lista;"
      ]
    },
    {
      "cell_type": "code",
      "execution_count": 7,
      "metadata": {
        "id": "socxMS6NADsM",
        "colab": {
          "base_uri": "https://localhost:8080/"
        },
        "outputId": "58f3c720-778a-4317-d3a7-696035e9d284"
      },
      "outputs": [
        {
          "output_type": "stream",
          "name": "stdout",
          "text": [
            "[448.0, 826.7, 313.6, 2212.0, 2771.3, 2240.0, 2021.95, 4039.0]\n"
          ]
        }
      ],
      "source": [
        "print(valor_emprestimos_lista_filtrada);  # Mostre os valores contidos em \"valzor_emprestimos_lista_filtrada\" enquanto converte o espaço alocado na memória, pela função, em lista; [448.0, 826.7, ..., 4039.0]"
      ]
    },
    {
      "cell_type": "markdown",
      "metadata": {
        "id": "4yqCAVCo_Yp3"
      },
      "source": [
        "---"
      ]
    },
    {
      "cell_type": "markdown",
      "metadata": {
        "id": "s4TzfRxC_Yp4"
      },
      "source": [
        "## 3\\. Função `reduce`\n",
        "\n"
      ]
    },
    {
      "cell_type": "markdown",
      "metadata": {
        "id": "RwV4V7gDAWfJ"
      },
      "source": [
        "Com a nossa lista de valores de emprestimo pronta, vamos extrair algumas métricas."
      ]
    },
    {
      "cell_type": "markdown",
      "metadata": {
        "id": "zjXA6H0LAf1_"
      },
      "source": [
        "### 3\\.1\\. Função `reduce` para extrair a **soma**"
      ]
    },
    {
      "cell_type": "markdown",
      "metadata": {
        "id": "u1kxPpkUArKw"
      },
      "source": [
        "Aplique a função reduce para somar os elementos da lista `valor_emprestimos_lista_filtrada` na variavel `soma_valor_emprestimos`."
      ]
    },
    {
      "cell_type": "code",
      "execution_count": 14,
      "metadata": {
        "id": "ptAFEVpMAr6_"
      },
      "outputs": [],
      "source": [
        "from functools import reduce; # IMPORTE DE biblioteca \"functools\" a função \"reduce\";\n",
        "\n",
        "# Atribua a variável \"soma_valor_emprestimos\" a soma de 2 em 2 dos valores contidos na lista \"valor_emprestimos_lista_filtrada\" usando os parâmetros \"x\" e \"y\" como controle: \\/\n",
        "soma_valor_emprestimos = (reduce(lambda x, y: x + y, valor_emprestimos_lista_filtrada));"
      ]
    },
    {
      "cell_type": "code",
      "execution_count": 157,
      "metadata": {
        "id": "fPosL2LZBDxz",
        "colab": {
          "base_uri": "https://localhost:8080/"
        },
        "outputId": "6382225e-9b1f-4556-b51e-b34fb6469382"
      },
      "outputs": [
        {
          "output_type": "stream",
          "name": "stdout",
          "text": [
            "14872.550\n"
          ]
        }
      ],
      "source": [
        "# Mostre o valor resultante na variável \"soma_valor_emprestimos\" limitando a aparição de somente três casas decimais pela função \"f\";\n",
        "print(f'{soma_valor_emprestimos:.3f}'); # 14872.550000000001"
      ]
    },
    {
      "cell_type": "markdown",
      "metadata": {
        "id": "v8h9TkYqBLPn"
      },
      "source": [
        "### 3\\.2\\. Função `reduce` para extrair a **media aritimética**"
      ]
    },
    {
      "cell_type": "markdown",
      "metadata": {
        "id": "VXsNI53NBLPo"
      },
      "source": [
        "Aplique a função reduce para extrair a média aritimética (mais informações [aqui](https://pt.wikipedia.org/wiki/M%C3%A9dia#M%C3%A9dia_aritm%C3%A9tica)) dos elementos da lista `valor_emprestimos_lista_filtrada` na variavel `media_valor_emprestimos`.\n",
        "\n",
        "Dica: Para calcular o tamanho da lista, isto é a quantidade de elementos, utilize a função len(), dentro do argumento da função coloque a lista `valor_emprestimos_lista_filtrada`."
      ]
    },
    {
      "cell_type": "code",
      "execution_count": 158,
      "metadata": {
        "id": "y1ILJjaiJlZY"
      },
      "outputs": [],
      "source": [
        "from functools import reduce; # IMPORTE DE biblioteca \"functools\" a função \"reduce\";\n",
        "\n",
        "# Atribua a variável \"soma_valor_emprestimos\" a soma de 2 em 2 dos valores contidos na lista \"valor_emprestimos_lista_filtrada\" usando os parâmetros \"x\" e \"y\" como controle...\n",
        "# ...após isso divida o resultado da função \"reduce\" pelo tamanho da lista \"valores_emprestimos_lista_filtrada\": \\/\n",
        "media_valor_emprestimos = reduce(lambda x, y: x + y, valor_emprestimos_lista_filtrada) / len(valor_emprestimos_lista_filtrada);"
      ]
    },
    {
      "cell_type": "code",
      "execution_count": 159,
      "metadata": {
        "id": "V-hh5hCKBLPr",
        "colab": {
          "base_uri": "https://localhost:8080/"
        },
        "outputId": "2d0e282d-f1bf-4230-d2f4-d718ac08a0b9"
      },
      "outputs": [
        {
          "output_type": "stream",
          "name": "stdout",
          "text": [
            "1859.069\n"
          ]
        }
      ],
      "source": [
        "# Mostre a variável \"media_valor_emprestimos\" limitando a aparição de somente três casa decimais pela função \"f\";\n",
        "print(f'{media_valor_emprestimos:.3f}'); # 1859.0687500000001"
      ]
    },
    {
      "cell_type": "markdown",
      "metadata": {
        "id": "rCwM3DcJBeyB"
      },
      "source": [
        "### 3\\.3\\. (**Desafio**) Função `reduce` para extrair o **desvio padrão amostral**"
      ]
    },
    {
      "cell_type": "markdown",
      "metadata": {
        "id": "jw3azoT_BeyC"
      },
      "source": [
        "Aplique a função reduce para extrair a média aritimética (mais informações [aqui](https://pt.wikipedia.org/wiki/M%C3%A9dia#M%C3%A9dia_aritm%C3%A9tica)) dos elementos da lista `valor_emprestimos_lista_filtrada` na variavel `desvio_padrao_valor_emprestimos`.\n",
        "\n"
      ]
    },
    {
      "cell_type": "code",
      "execution_count": 160,
      "metadata": {
        "id": "8HnNxp9mBeyD"
      },
      "outputs": [],
      "source": [
        "from functools import reduce; # IMPORTE DE biblioteca \"functools\" a função \"reduce\";\n",
        "from math import sqrt; # IMPORTE DE biblioteca \"math\" a função \"sqrt\" que representa raiz quadrada;\n",
        "\n",
        "# Atribua a variável \"desvio_padrao_valor_emprestimos\" o valor da raiz quadrada resultante da soma dos valores da função map que operou o resutado da diferença...\n",
        "# ...entre os valores em \"valor_emprestimos_lista_filtrada\" e \"media_valores_emprestimos\", com os valores em \"valor_emprestimo_lista_filtrada\"; sendo essa soma...\n",
        "# ... dividida pelo tamanho da lista \"valores_emprestimos_lista_filtrada\" - 1 (Torna a contagem correta): \\/\n",
        "desvio_padrao_valor_emprestimos = sqrt(reduce(lambda x, y: x + y, list(map(lambda x: (x - media_valor_emprestimos) ** 2, valor_emprestimos_lista_filtrada))) / (len(valor_emprestimos_lista_filtrada) - 1));"
      ]
    },
    {
      "cell_type": "code",
      "execution_count": 161,
      "metadata": {
        "id": "3dDC-KRYBeyE",
        "colab": {
          "base_uri": "https://localhost:8080/"
        },
        "outputId": "cbd14370-50d0-47cf-fe01-a1f6f4b0436f"
      },
      "outputs": [
        {
          "output_type": "stream",
          "name": "stdout",
          "text": [
            "1271.997\n"
          ]
        }
      ],
      "source": [
        "# Mostre a variável \"desvio_padrao_valor_emprestimos\" limitando a aparição de somente três casa decimais pela função \"f\";\n",
        "print(f'{desvio_padrao_valor_emprestimos:.3f}') # 1271.997271149785"
      ]
    },
    {
      "cell_type": "markdown",
      "metadata": {
        "id": "ai2mZYnG_b_s"
      },
      "source": [
        "---"
      ]
    }
  ],
  "metadata": {
    "colab": {
      "provenance": []
    },
    "kernelspec": {
      "display_name": "Python 3 (ipykernel)",
      "language": "python",
      "name": "python3"
    },
    "language_info": {
      "codemirror_mode": {
        "name": "ipython",
        "version": 3
      },
      "file_extension": ".py",
      "mimetype": "text/x-python",
      "name": "python",
      "nbconvert_exporter": "python",
      "pygments_lexer": "ipython3",
      "version": "3.9.7"
    }
  },
  "nbformat": 4,
  "nbformat_minor": 0
}