{
  "nbformat": 4,
  "nbformat_minor": 0,
  "metadata": {
    "colab": {
      "provenance": []
    },
    "kernelspec": {
      "name": "python3",
      "display_name": "Python 3"
    }
  },
  "cells": [
    {
      "cell_type": "markdown",
      "metadata": {
        "id": "KJqp9AANOCtf"
      },
      "source": [
        "<img src=\"https://raw.githubusercontent.com/andre-marcos-perez/ebac-course-utils/main/media/logo/newebac_logo_black_half.png\" alt=\"ebac-logo\">\n",
        "\n",
        "---\n",
        "\n",
        "# **Módulo** | Análise de Dados: Coleta de Dados I\n",
        "Caderno de **Exercícios**<br>\n",
        "Professor [André Perez](https://www.linkedin.com/in/andremarcosperez/)\n",
        "\n",
        "---"
      ]
    },
    {
      "cell_type": "markdown",
      "metadata": {
        "id": "d9jDtUbDOE1-"
      },
      "source": [
        "# **Tópicos**\n",
        "\n",
        "<ol type=\"1\">\n",
        "  <li>Arquivos CSV;</li>\n",
        "  <li>Arquivos Texto;</li>\n",
        "  <li>Arquivos Excel.</li>\n",
        "</ol>"
      ]
    },
    {
      "cell_type": "markdown",
      "metadata": {
        "id": "SmoHgt-lwkpD"
      },
      "source": [
        "---"
      ]
    },
    {
      "cell_type": "markdown",
      "metadata": {
        "id": "GABI6OW8OfQ2"
      },
      "source": [
        "# **Exercícios**"
      ]
    },
    {
      "cell_type": "markdown",
      "metadata": {
        "id": "muD1vxozykSC"
      },
      "source": [
        "## 0\\. Preparando o ambiente"
      ]
    },
    {
      "cell_type": "markdown",
      "metadata": {
        "id": "ByX7SUjNKk2K"
      },
      "source": [
        "Vamos explorar dados de crédito presentes no arquivo `credito.xlsx` ([link](https://raw.githubusercontent.com/andre-marcos-perez/ebac-course-utils/develop/dataset/credito.xlsx)). Os dados estão no formato de **Excel** (XLSX) e contém informações sobre clientes de uma instituição financeira. Em especial, estamos interessados em explicar a segunda coluna, chamada de **default**, que indica se um cliente é adimplente (`default = 0`), ou inadimplente (`default = 1`), ou seja, queremos entender o porque um cliente deixa de honrar com suas dívidas baseado no comportamento de outros atributos, como salário, escolaridade e movimentação financeira. Uma descrição completa dos atributos está abaixo."
      ]
    },
    {
      "cell_type": "markdown",
      "metadata": {
        "id": "Z5Fd0NSVLnwE"
      },
      "source": [
        "\n",
        "\n",
        "| Coluna  | Descrição |\n",
        "| ------- | --------- |\n",
        "| id      | Número da conta |\n",
        "| default | Indica se o cliente é adimplente (0) ou inadimplente (1) |\n",
        "| idade   | --- |\n",
        "| sexo    | --- |\n",
        "| depedentes | --- |\n",
        "| escolaridade | --- |\n",
        "| estado_civil | --- |\n",
        "| salario_anual | Faixa do salario mensal multiplicado por 12 |\n",
        "| tipo_cartao | Categoria do cartao: blue, silver, gold e platinium |\n",
        "| meses_de_relacionamento | Quantidade de meses desde a abertura da conta |\n",
        "| qtd_produtos | Quantidade de produtos contratados |\n",
        "| iteracoes_12m | Quantidade de iteracoes com o cliente no último ano |\n",
        "| meses_inatico_12m | Quantidade de meses que o cliente ficou inativo no último ano |\n",
        "| limite_credito | Valor do limite do cartão de crédito |\n",
        "| valor_transacoes_12m | Soma total do valor das transações no cartão de crédito no último ano |\n",
        "| qtd_transacoes_12m | Quantidade total de transações no cartão de crédito no último ano |\n",
        "\n"
      ]
    },
    {
      "cell_type": "markdown",
      "metadata": {
        "id": "peEbZE2vcMaH"
      },
      "source": [
        "Faça o download do arquivo `credito.xlsx` com a célula de código abaixo."
      ]
    },
    {
      "cell_type": "code",
      "metadata": {
        "id": "hyG8xFuWc16L",
        "colab": {
          "base_uri": "https://localhost:8080/"
        },
        "outputId": "829269c2-377e-4754-882b-d19fd12df114"
      },
      "source": [
        "!wget --show-progress --continue -O ./credito.xlsx https://raw.githubusercontent.com/andre-marcos-perez/ebac-course-utils/main/dataset/credito.xlsx"
      ],
      "execution_count": 9,
      "outputs": [
        {
          "output_type": "stream",
          "name": "stdout",
          "text": [
            "--2023-08-29 13:47:31--  https://raw.githubusercontent.com/andre-marcos-perez/ebac-course-utils/main/dataset/credito.xlsx\n",
            "Resolving raw.githubusercontent.com (raw.githubusercontent.com)... 185.199.110.133, 185.199.111.133, 185.199.108.133, ...\n",
            "Connecting to raw.githubusercontent.com (raw.githubusercontent.com)|185.199.110.133|:443... connected.\n",
            "HTTP request sent, awaiting response... 416 Range Not Satisfiable\n",
            "\n",
            "    The file is already fully retrieved; nothing to do.\n",
            "\n"
          ]
        }
      ]
    },
    {
      "cell_type": "markdown",
      "metadata": {
        "id": "zMN1Q3jdwoJm"
      },
      "source": [
        "---"
      ]
    },
    {
      "cell_type": "markdown",
      "metadata": {
        "id": "GWgNoJN8DHyY"
      },
      "source": [
        "## 1\\. Excel para CSV"
      ]
    },
    {
      "cell_type": "markdown",
      "metadata": {
        "id": "YynK1vf2DHyj"
      },
      "source": [
        "Utilizando o pacote Python `openpyxl` visto em aula, extraia os seguintes as colunas `id`, `sexo` e `idade` para dos clientes inadimplentes (`default = 1`) e solteiros (`estado_civil = 'solteiro'`). Salves os dados extraídos no arquivo csv `credito.csv` separado por `;`. Exemplo do cabeçalho e das três primeiras linhas:\n",
        "\n",
        "```\n",
        "id;sexo;idade\n",
        "767712558;59;M\n",
        "713741358;46;M\n",
        "772390908;59;M\n",
        "```\n",
        "\n",
        "**Dica:** O arquivo csv `credito.csv` deve ter 669 linhas, contando com o cabeçalho.\n",
        "\n",
        "**Nota:** Escreva o código da sua solução abaixo em uma ou mais células, você não precisa enviar o arquivo csv gerado."
      ]
    },
    {
      "cell_type": "markdown",
      "metadata": {
        "id": "waxn4B2UDHyl"
      },
      "source": [
        "---"
      ]
    },
    {
      "cell_type": "code",
      "source": [
        "def indice(coluna):\n",
        "  cabecalho = next(planilha.values); # salve os valores contidos nas linhas da coluna em \"planilha\" e passe para a próxima coluna, associe a \"cabeçalho\" e repita;\n",
        "  saida = cabecalho.index(coluna); # pegue o os elementos(0, 1, 2, 3 ...)), presentes na matriz \"cabeçalho\", baseado no parametro passado em \"coluna\" e associe a \"saida\";\n",
        "  return saida; # retorne o resultado de \"saida\";"
      ],
      "metadata": {
        "id": "D7bwnke3HE3X"
      },
      "execution_count": 91,
      "outputs": []
    },
    {
      "cell_type": "code",
      "source": [
        "# solução do exercício 1;\n",
        "from openpyxl import load_workbook; # importe a função \"load_workbook\" da biblioteca \"openpyxl\"\n",
        "import csv # importe a bibliotaca \"csv\";\n",
        "\n",
        "# carregando a planilha;\n",
        "planilhas = load_workbook(filename='credito.xlsx'); # abra o arquivo;\n",
        "planilha = planilhas.active; # selecione a aba ativa;\n",
        "\n",
        "# encontre os índices das informações desejadas utilizando a função própria \"indice\";\n",
        "indice_default = indice('default');\n",
        "indice_estado_civil = indice('estado_civil');\n",
        "indice_id = indice('id');\n",
        "indice_idade = indice('idade');\n",
        "indice_sexo = indice('sexo');\n",
        "\n",
        "# filtre os valores desejados;\n",
        "filtrada = [(linha[indice_id], linha[indice_idade], linha[indice_sexo]) # pegue os valores extraidos das colunas e postos em cada variavel correspondente, associando-os a controle \"linha\" e por fim a \"filtrada\":\n",
        "  for linha in planilha.values # PARA cada valor de \"linha\" EM valores de \"planilha\" FAÇA:\n",
        "    if linha[indice_default] == 1 and linha[indice_estado_civil] == 'solteiro']; # SE \"linha[indice_default]\" for igual a 1 E \"linha[indice_estado_civil]\" igual a 'solteiro' FAÇA:\n",
        "    # retorne para \"filtrada\";\n",
        "\n",
        "# criando o arquivo csv;\n",
        "with open(file='./credito_inadimplentes.csv', mode='w', encoding='utf8') as arquivo: # ABRA/CRIE o arquivo ... em modo de escrita, na cod ... com apelido de \"arquivo\" e FAÇA:\n",
        " escritor_csv = csv.writer(arquivo, delimiter=';'); # escreva em \"arquivo\" delimitando as colunas por \";\" e associe a ...;\n",
        " escritor_csv.writerows([['id','idade','sexo' ]] # escreva no titulo das colunas [...] em \"arquivo\" contido em \"escritor_csv\";\n",
        "  + list(map(lambda infos: infos, filtrada))); # como extra mapei transformando em lista as informações contidas em \"filtrada\";"
      ],
      "metadata": {
        "id": "s0r9vTg8EGXU"
      },
      "execution_count": 92,
      "outputs": []
    },
    {
      "cell_type": "markdown",
      "source": [
        "![Captura de tela 2023-08-29 134535.png](data:image/png;base64,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)"
      ],
      "metadata": {
        "id": "qrMO7LsPL9tI"
      }
    },
    {
      "cell_type": "markdown",
      "metadata": {
        "id": "finLQoyyGVmk"
      },
      "source": [
        "## 2\\. Excel para JSON"
      ]
    },
    {
      "cell_type": "markdown",
      "metadata": {
        "id": "99BrnqR4GVmy"
      },
      "source": [
        "Como preparação para o próximo módulo, vamos trabalhar com o JSON, um formato semi-estruturado, muito utilizado em transmissão de dados da web e equivalente a um **dicionário** Python."
      ]
    },
    {
      "cell_type": "markdown",
      "metadata": {
        "id": "AQqks_tohV8k"
      },
      "source": [
        "Utilizando o pacote Python `openpyxl` visto em aula, extraia os dados das colunas `escolaridade` e `tipo_cartao`, removendo duplicados. Com os dados, construa o dicionário Python `credito` com a seguinte estrutura:\n",
        "\n",
        "```python\n",
        "credito = {\n",
        "  'tipo_cartao': ['silver', 'blue', 'gold', 'platinum'],\n",
        "  'escolaridade': ['doutorado', 'mestrado', 'na', 'sem educacao formal', 'graduacao', 'ensino medio']\n",
        "}\n",
        "```\n",
        "\n",
        "Para finalizar, utilize o código abaixo para converter o dicionário `credito` no formato JSON:\n",
        "\n",
        "```python\n",
        "import json\n",
        "\n",
        "credito_json = json.dumps(credito, indent=4)\n",
        "print(credito_json)\n",
        "```\n",
        "\n",
        "**Dica:** Sua solução deve gerar o dicionário Python `credito` igual ao exemplo mas a ordem dos elementos pode variar tranquilamente.\n",
        "\n",
        "**Dica:** Uma excelente forma de remover elementos duplicados de uma lista é convertê-la para `set` e depois para `list` novamente.\n",
        "\n"
      ]
    },
    {
      "cell_type": "code",
      "source": [
        "# solução do exercício 2\n",
        "import json\n",
        "from openpyxl import load_workbook; # importe a função \"load_workbook\" da biblioteca \"openpyxl\"\n",
        "\n",
        "# extraindo a planilha;\n",
        "planilhas = load_workbook(filename='credito.xlsx'); # extraia o conteudo presente no arquivo e associeo a uma planilha simulada da variavel;\n",
        "planilha = planilhas.active; # ative as linhas e colunas simuladas na variavel e associe;\n",
        "cabeçalho = next(planilha.values); # colete os valores das colunas e linhas e associe;\n",
        "\n",
        "# extraindo as colunas desejadas;\n",
        "indice_tipo_cartao = cabeçalho.index('tipo_cartao'); # extraia somente a coluna com o valor 'tipo_cartao' e associe;\n",
        "indice_escolaridade = cabeçalho.index('escolaridade'); # extraia somente a coluna com o valor 'escolaridade' e associe;\n",
        "\n",
        "# extraindo os valores contidos nas colunas desejadas;\n",
        "tipo_cartao = [linha[indice_tipo_cartao] for linha in planilha.values]; # para cada linha contida nos valores da variavel, extraia o valor da linha;\n",
        "tipo_cartao = list(set(tipo_cartao)); # introduza a variavel em um tipo lista e re-associe;\n",
        "del tipo_cartao[0]; # defina a variavel como o indice 0 da lista em que ele foi introduzido;\n",
        "\n",
        "escolaridade = [linha[indice_escolaridade] for linha in planilha.values]; # para cada linha contida nos valores da variavel, extraia o valor da linha;\n",
        "escolaridade = list(set(escolaridade)); # introduza a variavel em um tipo lista e re-associe;\n",
        "del escolaridade[1]; # defina a variavel como o indice 1 da lista em que ele foi introduzido;\n",
        "\n",
        "# criando o dicionario;\n",
        "cartao = dict.fromkeys(['tipo_cartao'], tipo_cartao); # crie a chave do dicionario \"cartao\" e introduza os valores contidos em \"tipo_cartao\" a chave nomeada;\n",
        "escola = dict.fromkeys(['escolaridade'], escolaridade); # crie a chave do dicionario \"escola\" e introduza os valores contidos em \"escolaridade\" a chave nomeada;\n",
        "credito = {**cartao, **escola}; # crie o dicionario associando-o as chaves;\n",
        "\n",
        "# convertendo o dicionario para JSON;\n",
        "credito_json = json.dumps(credito, indent=4); # conversao\n",
        "print(credito_json); # mostre"
      ],
      "metadata": {
        "colab": {
          "base_uri": "https://localhost:8080/"
        },
        "id": "-ysGQYvZdJ9W",
        "outputId": "0cfc539f-d636-43ad-da51-1445a99a98e2"
      },
      "execution_count": 90,
      "outputs": [
        {
          "output_type": "stream",
          "name": "stdout",
          "text": [
            "{\n",
            "    \"tipo_cartao\": [\n",
            "        \"blue\",\n",
            "        \"silver\",\n",
            "        \"platinum\",\n",
            "        \"tipo_cartao\"\n",
            "    ],\n",
            "    \"escolaridade\": [\n",
            "        \"doutorado\",\n",
            "        \"sem educacao formal\",\n",
            "        \"mestrado\",\n",
            "        \"ensino medio\",\n",
            "        \"graduacao\",\n",
            "        \"na\"\n",
            "    ]\n",
            "}\n"
          ]
        }
      ]
    },
    {
      "cell_type": "markdown",
      "source": [
        "\n",
        "\n",
        "---\n"
      ],
      "metadata": {
        "id": "LUcGT_foS9IQ"
      }
    },
    {
      "cell_type": "markdown",
      "metadata": {
        "id": "SS1PxxfHILHs"
      },
      "source": [
        "## 3\\. BÔNUS: Texto para CSV"
      ]
    },
    {
      "cell_type": "markdown",
      "metadata": {
        "id": "i3f-X7y23onm"
      },
      "source": [
        "No arquivo de texto `ebac.txt` você encontra o texto presente no rodapé da página de cursos da EBAC ([link](https://ebaconline.com.br/)).\n",
        "\n"
      ]
    },
    {
      "cell_type": "markdown",
      "metadata": {
        "id": "nKDF9EBH3onp"
      },
      "source": [
        "**Arquivo TXT:** ebac.txt"
      ]
    },
    {
      "cell_type": "code",
      "metadata": {
        "id": "Pyyj5VNnb16w",
        "colab": {
          "base_uri": "https://localhost:8080/"
        },
        "outputId": "c8beca35-83b5-4d2b-fb04-46fbaf3590bc"
      },
      "source": [
        "%%writefile ebac.txt\n",
        "MÍDIAS SOCIAIS\n",
        "Instagram, Facebook, Youtube, LinkedIn\n",
        "\n",
        "CURSOS\n",
        "Software, Design, Marketing, Audiovisual, Programação & Data, Games\n",
        "\n",
        "WEBINARS\n",
        "Próximos, Anteriores\n",
        "\n",
        "SOBRE\n",
        "Sobre nós, Centro de carreiras, Vagas\n",
        "\n",
        "CONTATO\n",
        "WhatsApp +55 (11) 4200-2991\n",
        "Telefone +55 (11) 3030-3200\n",
        "\n",
        "BLOG\n",
        "Design, Audiovisual, Marketing"
      ],
      "execution_count": 3,
      "outputs": [
        {
          "output_type": "stream",
          "name": "stdout",
          "text": [
            "Writing ebac.txt\n"
          ]
        }
      ]
    },
    {
      "cell_type": "markdown",
      "metadata": {
        "id": "R4hMJ6D2ILH3"
      },
      "source": [
        "Extraia os números de contato do arquivo texto `ebac.txt` e salve-os no arquivo csv `contato_ebac.csv` com o separador `;` no seguinte formato:\n",
        "\n",
        "```\n",
        "tipo;numero\n",
        "whatsapp;+551142002991\n",
        "telefone;+551130303200\n",
        "```\n",
        "\n",
        "**Nota:** Escreva o código da sua solução abaixo em uma ou mais células, você não precisa enviar o arquivo csv gerado."
      ]
    },
    {
      "cell_type": "code",
      "source": [
        "def sub(char):\n",
        "  saida = ln.replace(char, \"\"); # substitua a valor passado no parametro por nada;\n",
        "  return saida; # retorne o resultado de \"saida\";"
      ],
      "metadata": {
        "id": "8LGDWwVfv_6A"
      },
      "execution_count": 39,
      "outputs": []
    },
    {
      "cell_type": "code",
      "metadata": {
        "id": "ogZClDvTILH3",
        "colab": {
          "base_uri": "https://localhost:8080/"
        },
        "outputId": "e65dba8b-941f-4149-c73a-c873eb7aba30"
      },
      "source": [
        "# solução do exercício 3 (bônus);\n",
        "import re;\n",
        "\n",
        "# abrindo arquivo;\n",
        "with open(file='./ebac.txt', mode='r', encoding='utf8') as arquivo:  # abra o arquivo no modo leitura, na codificação ... e apilide de arquivo:\n",
        "  linhas = arquivo.readlines(); # leia todas as linhas presentes no arquivo e atribua a \"linhas\";\n",
        "\n",
        "# limpando dados;\n",
        "linhas = filter(lambda linha: linha != '\\n', linhas); # atraves da função curta filtre cada linha do arquivo pelo caracter enter \"\\n\" presente em linhas e atribua a;\n",
        "linhas = map(lambda linha: linha.strip(), linhas); # atraves da função curta mapeie cada linha, eleminando os espaços em linhas e atribua a;\n",
        "linhas = list(linhas); # converta em tipo de lista;\n",
        "##print(linhas); # mostre;\n",
        "\n",
        "# filtrando dados desejados;\n",
        "linhas_nums = filter(lambda linha: '+' in linha, linhas); # atraves da função curta filtre cada linha do aquivo que tiver o caracter \"+\" presente em linhas e atribua a;\n",
        "linhas_nums = list(linhas_nums); # converta em tipo de lista;\n",
        "\n",
        "##print(linhas_nums); # mostre;\n",
        "\n",
        "# convertendo dados filtrados;\n",
        "ln = \"\".join(linhas_nums); # converta do tipo da variavel para str e associe;\n",
        "\n",
        "##print(ln); # mostre;\n",
        "\n",
        "# tratando dados desejados;\n",
        "# utilize a função de substituição;\n",
        "ln = sub('(');\n",
        "ln = sub(')');\n",
        "ln = sub('-');\n",
        "ln = sub(\" \");\n",
        "\n",
        "ln = ln.lower(); # torne todo o texto minusculo;\n",
        "\n",
        "##print(ln); # mostre;\n",
        "\n",
        "# filtrando e separando;\n",
        "numero = re.findall(\"\\+5\\d+\", ln); # busque apartir do caracter \"+5\" + todos os numeros seguidos dele contidos em ln e associe;\n",
        "tipo = re.findall(\"[a-zA-Z]+\", ln); # busque todos os caracter de a-z contidos em ln e associe;\n",
        "\n",
        "lstone = tipo[0], numero[0]; # pegue o valor no indice da lista e junte as lista em;\n",
        "lsttwo = tipo[1], numero[1]; # pegue o valor no indice da lista e junte as lista em;\n",
        "lst = lstone, lsttwo; # junte as listas;\n",
        "\n",
        "##print(lst) # mostre;\n",
        "\n",
        "# criando o arquivo csv;\n",
        "with open(file='./contato_ebac.csv', mode='w', encoding='utf8') as arquivo: # ABRA/CRIE o arquivo ... em modo de escrita, na cod ... com apelido de \"arquivo\" e FAÇA:\n",
        " escritor_csv = csv.writer(arquivo, delimiter=';'); # escreva em \"arquivo\" delimitando as colunas por \";\" e associe a ...;\n",
        " escritor_csv.writerows([['tipo','numero']] # escreva no titulo das colunas [...] em \"arquivo\" contido em \"escritor_csv\";\n",
        "  + list(map(lambda infos: infos, lst))); # como extra mapei transformando em lista as informações contidas em \"filtrada\";\n"
      ],
      "execution_count": 89,
      "outputs": [
        {
          "output_type": "stream",
          "name": "stdout",
          "text": [
            "['MÍDIAS SOCIAIS', 'Instagram, Facebook, Youtube, LinkedIn', 'CURSOS', 'Software, Design, Marketing, Audiovisual, Programação & Data, Games', 'WEBINARS', 'Próximos, Anteriores', 'SOBRE', 'Sobre nós, Centro de carreiras, Vagas', 'CONTATO', 'WhatsApp +55 (11) 4200-2991', 'Telefone +55 (11) 3030-3200', 'BLOG', 'Design, Audiovisual, Marketing']\n",
            "['WhatsApp +55 (11) 4200-2991', 'Telefone +55 (11) 3030-3200']\n",
            "WhatsApp +55 (11) 4200-2991Telefone +55 (11) 3030-3200\n",
            "whatsapp+551142002991telefone+551130303200\n",
            "['+551142002991', '+551130303200']\n",
            "['whatsapp', 'telefone']\n",
            "(('whatsapp', '+551142002991'), ('telefone', '+551130303200'))\n"
          ]
        }
      ]
    },
    {
      "cell_type": "markdown",
      "metadata": {
        "id": "Fx--J2bOILH4"
      },
      "source": [
        "---"
      ]
    },
    {
      "cell_type": "markdown",
      "source": [
        "![Captura de tela 2023-08-29 133427.png](data:image/png;base64,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)"
      ],
      "metadata": {
        "id": "rk2rW1vlJT6X"
      }
    }
  ]
}